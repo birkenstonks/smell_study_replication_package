{
 "cells": [
  {
   "cell_type": "code",
   "execution_count": null,
   "metadata": {},
   "outputs": [],
   "source": [
    "import os\n",
    "import pickle\n",
    "import numpy as np\n",
    "import pandas as pd\n",
    "import scipy.stats as stats\n",
    "from run_stats import *"
   ]
  },
  {
   "cell_type": "markdown",
   "metadata": {},
   "source": [
    "##### Smell Rating"
   ]
  },
  {
   "cell_type": "code",
   "execution_count": null,
   "metadata": {},
   "outputs": [],
   "source": [
    "survey_data = pd.read_excel(\"./Experimental_Data_revised.xlsx\", 'Surveys')"
   ]
  },
  {
   "cell_type": "code",
   "execution_count": null,
   "metadata": {},
   "outputs": [],
   "source": [
    "fish, lemon, neutral = make_three_group_lists(survey_data, 'RATING')\n",
    "ratings = three_lists_stats(fish, lemon, neutral, 'Smell Rating')"
   ]
  },
  {
   "cell_type": "code",
   "execution_count": null,
   "metadata": {},
   "outputs": [],
   "source": [
    "fish, lemon, neutral = make_three_group_lists(survey_data, 'CPP_Experience')\n",
    "yrs_experience = three_lists_stats(fish, lemon, neutral, 'CPP')"
   ]
  },
  {
   "cell_type": "code",
   "execution_count": null,
   "metadata": {},
   "outputs": [],
   "source": [
    "fish, lemon, neutral = make_three_group_lists(survey_data, 'GPA')\n",
    "gpa = three_lists_stats(fish, lemon, neutral, 'GPA')"
   ]
  },
  {
   "cell_type": "code",
   "execution_count": null,
   "metadata": {},
   "outputs": [],
   "source": [
    "fish, lemon, neutral = make_three_group_lists(survey_data, 'AGE')\n",
    "age = three_lists_stats(fish, lemon, neutral, 'AGE')"
   ]
  },
  {
   "cell_type": "markdown",
   "metadata": {},
   "source": [
    "## RQ1: COGNITIVE EFFORT"
   ]
  },
  {
   "cell_type": "markdown",
   "metadata": {},
   "source": [
    "#### Variables"
   ]
  },
  {
   "cell_type": "code",
   "execution_count": null,
   "metadata": {},
   "outputs": [],
   "source": [
    "relevant_columns = ['neutral_fc',  'lemon_fc',   'fish_fc', \n",
    "                    'neutral_avfd','lemon_avfd', 'fish_avfd']"
   ]
  },
  {
   "cell_type": "markdown",
   "metadata": {},
   "source": [
    "### CODE COMPREHENSION"
   ]
  },
  {
   "cell_type": "code",
   "execution_count": null,
   "metadata": {},
   "outputs": [],
   "source": [
    "# found in 'tobii metrics' folder\n",
    "cc_df = pd.read_excel(\"tobii_metrics/code_summary.xlsx\")\n",
    "output_comp = calculate_stats(cc_df, relevant_columns)\n",
    "# calculate_stats(cc_df)"
   ]
  },
  {
   "cell_type": "code",
   "execution_count": null,
   "metadata": {},
   "outputs": [],
   "source": [
    "output_comp.keys()"
   ]
  },
  {
   "cell_type": "code",
   "execution_count": null,
   "metadata": {},
   "outputs": [],
   "source": [
    "# need to remove the following\n",
    "# fixation count: lemon - max value, neutral - top two values\n",
    "output_comp['Fixation Count']['lemon'] = output_comp['Fixation Count']['lemon'][:-1]\n",
    "output_comp['Fixation Count']['neutral'] = output_comp['Fixation Count']['neutral'][:-2]\n",
    "# calculating stats\n",
    "fish = pd.Series(output_comp['Fixation Count']['fish'])\n",
    "lemon = pd.Series(output_comp['Fixation Count']['lemon'])\n",
    "neutral = pd.Series(output_comp['Fixation Count']['neutral'])\n",
    "output_comp['Fixation Count'] = three_lists_stats(fish, lemon, neutral, 'Fixation Count')\n",
    "\n",
    "\n",
    "# average fixation duration: fish - max and min values\n",
    "output_comp['Average Fixation Duration']['fish'] = output_comp['Average Fixation Duration']['fish'][1:-1]\n",
    "# calculating stats\n",
    "fish = pd.Series(output_comp['Average Fixation Duration']['fish'])\n",
    "lemon = pd.Series(output_comp['Average Fixation Duration']['lemon'])\n",
    "neutral = pd.Series(output_comp['Average Fixation Duration']['neutral'])\n",
    "output_comp['Average Fixation Duration'] = three_lists_stats(fish, lemon, neutral, 'Average Fixation Duration')\n",
    "\n"
   ]
  },
  {
   "cell_type": "markdown",
   "metadata": {},
   "source": [
    "### CODE WRITING"
   ]
  },
  {
   "cell_type": "code",
   "execution_count": null,
   "metadata": {},
   "outputs": [],
   "source": [
    "# found in writingFixations folder\n",
    "w_df = pd.read_csv(\"writingFixations/all_itrace_counts.csv\")\n",
    "output_writing = calculate_stats(w_df, relevant_columns)\n"
   ]
  },
  {
   "cell_type": "code",
   "execution_count": null,
   "metadata": {},
   "outputs": [],
   "source": [
    "# need to remove the following\n",
    "# fixation count - lemon: min value\n",
    "output_writing['Fixation Count']['lemon'] = output_writing['Fixation Count']['lemon'][1:]\n",
    "\n",
    "# calculating stats\n",
    "fish = pd.Series(output_writing['Fixation Count']['fish'])\n",
    "lemon = pd.Series(output_writing['Fixation Count']['lemon'])\n",
    "neutral = pd.Series(output_writing['Fixation Count']['neutral'])\n",
    "filtered_fc = three_lists_stats(fish, lemon, neutral, 'Fixation Count')\n",
    "output_writing['Fixation Count'] = filtered_fc['Fixation Count']\n",
    "\n",
    "# average fixation duration - lemon: 2 max vlaues, neutral: 2 max values, fish: max value\n",
    "output_writing['Average Fixation Duration']['fish'] = output_writing['Average Fixation Duration']['fish'][:-1]\n",
    "output_writing['Average Fixation Duration']['lemon'] = output_writing['Average Fixation Duration']['lemon'][:-2]\n",
    "output_writing['Average Fixation Duration']['neutral'] = output_writing['Average Fixation Duration']['neutral'][:-2]\n",
    "\n",
    "# calculating stats\n",
    "fish = pd.Series(output_writing['Average Fixation Duration']['fish'])\n",
    "lemon = pd.Series(output_writing['Average Fixation Duration']['lemon'])\n",
    "neutral = pd.Series(output_writing['Average Fixation Duration']['neutral'])\n",
    "filtered_fd = three_lists_stats(fish, lemon, neutral, 'Average Fixation Duration')\n",
    "output_writing['Average Fixation Duration'] = filtered_fd['Average Fixation Duration']\n"
   ]
  },
  {
   "cell_type": "markdown",
   "metadata": {},
   "source": [
    "### Reading Comprehension"
   ]
  },
  {
   "cell_type": "code",
   "execution_count": null,
   "metadata": {},
   "outputs": [],
   "source": [
    "prose_df = pd.read_excel(\"tobii_metrics/prose_summary.xlsx\")\n",
    "output_prose = calculate_stats(prose_df, relevant_columns)\n"
   ]
  },
  {
   "cell_type": "code",
   "execution_count": null,
   "metadata": {},
   "outputs": [],
   "source": [
    "# need to remove the following\n",
    "# fixation count - neutral: max value, fish: max and min values\n",
    "output_prose['Fixation Count']['neutral'] = output_prose['Fixation Count']['neutral'][:-1]\n",
    "output_prose['Fixation Count']['fish'] = output_prose['Fixation Count']['fish'][1:-1]\n",
    "\n",
    "# calculating stats\n",
    "fish = pd.Series(output_prose['Fixation Count']['fish'])\n",
    "lemon = pd.Series(output_prose['Fixation Count']['lemon'])\n",
    "neutral = pd.Series(output_prose['Fixation Count']['neutral'])\n",
    "filtered_fc = three_lists_stats(fish, lemon, neutral, 'Fixation Count')\n",
    "output_prose['Fixation Count'] = filtered_fc['Fixation Count']\n"
   ]
  },
  {
   "cell_type": "markdown",
   "metadata": {},
   "source": [
    "### SACCADES"
   ]
  },
  {
   "cell_type": "code",
   "execution_count": null,
   "metadata": {},
   "outputs": [],
   "source": [
    "task_data = pd.read_excel(\"Experimental_Data_revised.xlsx\", \"Tasks\")"
   ]
  },
  {
   "cell_type": "code",
   "execution_count": null,
   "metadata": {},
   "outputs": [],
   "source": [
    "fish_idx = np.where(task_data['CONDITION'] == 'bad')\n",
    "lemon_idx = np.where(task_data['CONDITION'] == 'good')\n",
    "neutral_idx = np.where(task_data['CONDITION'] == 'neutral')\n",
    "\n",
    "fish_ppl = list(task_data.loc[fish_idx, 'ID'])\n",
    "lemon_ppl = list(task_data.loc[lemon_idx, 'ID'])\n",
    "neutral_ppl = list(task_data.loc[neutral_idx, 'ID'])"
   ]
  },
  {
   "cell_type": "code",
   "execution_count": null,
   "metadata": {},
   "outputs": [],
   "source": [
    "with open(\"midprocessing/ccd_saccades.pkl\", 'rb') as f:\n",
    "    ccd_saccades = pickle.load(f)\n",
    "    \n",
    "with open(\"midprocessing/prose_saccades.pkl\", 'rb') as f:\n",
    "    prose_saccades = pickle.load(f)\n",
    "    \n",
    "with open(\"midprocessing/writing_saccades.pkl\", 'rb') as f:\n",
    "    writing_saccades = pickle.load(f)"
   ]
  },
  {
   "cell_type": "code",
   "execution_count": null,
   "metadata": {},
   "outputs": [],
   "source": [
    "prose_saccades = three_lists_stats(fish_list=pd.Series(prose_saccades['fish']), \n",
    "                  lemon_list=pd.Series(prose_saccades['lemon']), \n",
    "                  neut_list=pd.Series(prose_saccades['neutral']), name='Saccades: Prose Comprehension')\n",
    "prose_saccades = prose_saccades['Saccades: Prose Comprehension']\n",
    "\n",
    "code_saccades = three_lists_stats(fish_list=pd.Series(ccd_saccades['fish']), \n",
    "                  lemon_list=pd.Series(ccd_saccades['lemon']), \n",
    "                  neut_list=pd.Series(ccd_saccades['neutral']), name='CODE SACCADES')\n",
    "code_saccades = code_saccades['CODE SACCADES']\n",
    "\n",
    "writing_saccades = three_lists_stats(fish_list=pd.Series(writing_saccades['fish']), \n",
    "                  lemon_list=pd.Series(writing_saccades['lemon']), \n",
    "                  neut_list=pd.Series(writing_saccades['neutral']), name='WRITING SACCADES')\n",
    "writing_saccades = writing_saccades['WRITING SACCADES']"
   ]
  },
  {
   "cell_type": "code",
   "execution_count": null,
   "metadata": {},
   "outputs": [],
   "source": [
    "# need to remove the following\n",
    "# code_saccades - lemon: remove max, neutral: remove max\n",
    "code_saccades['lemon'] = code_saccades['lemon'][:-1]\n",
    "code_saccades['neutral'] = code_saccades['neutral'][:-1]\n",
    "\n",
    "# calculating stats\n",
    "fish = pd.Series(code_saccades['fish'])\n",
    "lemon = pd.Series(code_saccades['lemon'])\n",
    "neutral = pd.Series(code_saccades['neutral'])\n",
    "filtered_code = three_lists_stats(fish, lemon, neutral, 'Saccades: Code Reading')\n",
    "code_saccades['CODE SACCADES'] = filtered_code['Saccades: Code Reading']\n",
    "\n",
    "# writing_saccades - lemon: remove top 2 and bottom 2, neutral: remove max\n",
    "writing_saccades['lemon'] = writing_saccades['lemon'][2:-2]\n",
    "writing_saccades['neutral'] = writing_saccades['neutral'][:-1]\n",
    "\n",
    "# calculating stats\n",
    "fish = pd.Series(writing_saccades['fish'])\n",
    "lemon = pd.Series(writing_saccades['lemon'])\n",
    "neutral = pd.Series(writing_saccades['neutral'])\n",
    "filtered_writing = three_lists_stats(fish, lemon, neutral, 'Code Writing Saccades')\n",
    "writing_saccades['WRITING SACCADES'] = filtered_writing['Code Writing Saccades']\n"
   ]
  },
  {
   "cell_type": "code",
   "execution_count": null,
   "metadata": {},
   "outputs": [],
   "source": [
    "data = code_saccades\n",
    "\n",
    "# Set the aesthetic style of the plots\n",
    "sns.set(style=\"whitegrid\")\n",
    "\n",
    "# Creating boxplot\n",
    "plt.figure(figsize=(8, 6))\n",
    "box = plt.boxplot(\n",
    "    [data['lemon'], data['neutral'], data['fish']], \n",
    "    labels=['Lemon', 'Neutral', 'Fish'], \n",
    "    patch_artist=True, \n",
    "    boxprops=dict(facecolor='lightgray', color='black'),\n",
    "    medianprops=dict(color='black'),\n",
    "    whiskerprops=dict(color='black'),\n",
    "    capprops=dict(color='black')\n",
    ")\n",
    "\n",
    "# Set individual colors for the boxes\n",
    "colors = ['#F0E68C', '#708090', '#FFB3BA'] \n",
    "for patch, color in zip(box['boxes'], colors):\n",
    "    patch.set_facecolor(color)\n",
    "\n",
    "# Adding title and labels\n",
    "plt.title(\"Code Comprehension: Total Saccade Counts\", fontsize=16, fontweight='bold')\n",
    "plt.xlabel(\"Condition\", fontsize=18)\n",
    "plt.ylabel(\"Saccade Total\", fontsize=18)\n",
    "plt.tick_params(axis='both', which='major', labelsize=16)\n",
    "\n",
    "# Add gridlines\n",
    "plt.grid(True, linestyle='--', alpha=0.7)\n",
    "\n",
    "# Calculate p-value for significance (e.g., using a t-test)\n",
    "t_stat, p_val = stats.ttest_ind(data['lemon'], data['fish'])\n",
    "\n",
    "# Adding the significance annotation\n",
    "x1, x2 = 1, 3  # positions for Lemon and Fish\n",
    "y, h, col = max(max(data['lemon']), max(data['fish'])) + 600, 400, 'black'\n",
    "plt.plot([x1, x1, x2, x2], [y, y+h, y+h, y], lw=1.5, c=col)\n",
    "plt.text((x1+x2)*.5, y+h, f\"*\", ha='center', va='bottom', fontsize=16, color=col)\n",
    "\n",
    "ax = plt.gca()\n",
    "ax.set_ylim([1000, 8500])\n",
    "\n",
    "# Remove top and right spines for a cleaner look\n",
    "sns.despine()\n",
    "# plt.savefig(\"figures/saccade_code_box_plot.png\", dpi=150)\n",
    "plt.show()"
   ]
  },
  {
   "cell_type": "code",
   "execution_count": null,
   "metadata": {},
   "outputs": [],
   "source": [
    "data = prose_saccades\n",
    "\n",
    "sns.set(style=\"whitegrid\")\n",
    "\n",
    "# Creating boxplot\n",
    "plt.figure(figsize=(8, 6))\n",
    "box = plt.boxplot(\n",
    "    [data['lemon'], data['neutral'], data['fish']], \n",
    "    labels=['Lemon', 'Neutral', 'Fish'], \n",
    "    patch_artist=True, \n",
    "    boxprops=dict(facecolor='lightgray', color='black'),\n",
    "    medianprops=dict(color='black'),\n",
    "    whiskerprops=dict(color='black'),\n",
    "    capprops=dict(color='black')\n",
    ")\n",
    "\n",
    "# Set individual colors for the boxes\n",
    "colors = ['#F0E68C', '#708090', '#FFB3BA'] \n",
    "for patch, color in zip(box['boxes'], colors):\n",
    "    patch.set_facecolor(color)\n",
    "\n",
    "# Adding title and labels\n",
    "plt.title(\"Prose Comprehension: Total Saccade Counts\", fontsize=16, fontweight='bold')\n",
    "plt.xlabel(\"Condition\", fontsize=18)\n",
    "plt.ylabel(\"Saccade Total\", fontsize=18)\n",
    "plt.tick_params(axis='both', which='major', labelsize=16)\n",
    "\n",
    "# Add gridlines\n",
    "plt.grid(True, linestyle='--', alpha=0.7)\n",
    "\n",
    "# Calculate p-value for significance (e.g., using a t-test)\n",
    "t_stat, p_val = stats.ttest_ind(data['lemon'], data['fish'])\n",
    "\n",
    "# Adding the significance annotation\n",
    "x1, x2 = 1, 3  # positions for Lemon and Fish\n",
    "y, h, col = max(max(data['lemon']), max(data['fish'])) + 1200, 400, 'black'\n",
    "plt.plot([x1, x1, x2, x2], [y, y+h, y+h, y], lw=1.5, c=col)\n",
    "plt.text((x1+x2)*.5, y+h, f\"**\", ha='center', va='bottom', fontsize=16, color=col)\n",
    "\n",
    "ax = plt.gca()\n",
    "ax.set_ylim([1000, 6000])\n",
    "\n",
    "# Remove top and right spines for a cleaner look\n",
    "sns.despine()\n",
    "# plt.savefig(\"figures/saccade_prose_box_plot.png\", dpi=150)\n",
    "# Show the plot\n",
    "plt.show()"
   ]
  },
  {
   "cell_type": "code",
   "execution_count": null,
   "metadata": {},
   "outputs": [],
   "source": [
    "data = writing_saccades\n",
    "\n",
    "sns.set(style=\"whitegrid\")\n",
    "\n",
    "# Creating boxplot\n",
    "plt.figure(figsize=(8, 6))\n",
    "box = plt.boxplot(\n",
    "    [data['lemon'], data['neutral'], data['fish']], \n",
    "    labels=['Lemon', 'Neutral', 'Fish'], \n",
    "    patch_artist=True, \n",
    "    boxprops=dict(facecolor='lightgray', color='black'),\n",
    "    medianprops=dict(color='black'),\n",
    "    whiskerprops=dict(color='black'),\n",
    "    capprops=dict(color='black')\n",
    ")\n",
    "\n",
    "# Set individual colors for the boxes\n",
    "colors = ['#F0E68C', '#708090', '#FFB3BA'] \n",
    "for patch, color in zip(box['boxes'], colors):\n",
    "    patch.set_facecolor(color)\n",
    "\n",
    "# Adding title and labels\n",
    "plt.title(\"Code Writing: Total Saccade Counts\", fontsize=16, fontweight='bold')\n",
    "plt.xlabel(\"Condition\", fontsize=18)\n",
    "plt.ylabel(\"Saccade Total\", fontsize=18)\n",
    "plt.tick_params(axis='both', which='major', labelsize=16)\n",
    "\n",
    "# Add gridlines\n",
    "plt.grid(True, linestyle='--', alpha=0.7)\n",
    "\n",
    "# Calculate p-value for significance (e.g., using a t-test)\n",
    "t_stat, p_val = stats.ttest_ind(data['lemon'], data['fish'])\n",
    "\n",
    "ax = plt.gca()\n",
    "ax.set_ylim([1000, 6000])\n",
    "\n",
    "# Remove top and right spines for a cleaner look\n",
    "sns.despine()\n",
    "# plt.savefig(\"figures/saccade_writing_box_plot.png\", dpi=150)\n",
    "# Show the plot\n",
    "plt.show()"
   ]
  },
  {
   "cell_type": "code",
   "execution_count": null,
   "metadata": {},
   "outputs": [],
   "source": []
  }
 ],
 "metadata": {
  "kernelspec": {
   "display_name": "base",
   "language": "python",
   "name": "python3"
  },
  "language_info": {
   "codemirror_mode": {
    "name": "ipython",
    "version": 3
   },
   "file_extension": ".py",
   "mimetype": "text/x-python",
   "name": "python",
   "nbconvert_exporter": "python",
   "pygments_lexer": "ipython3",
   "version": "3.9.4"
  }
 },
 "nbformat": 4,
 "nbformat_minor": 2
}
