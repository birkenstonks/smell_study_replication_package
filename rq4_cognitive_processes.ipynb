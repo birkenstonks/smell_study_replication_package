{
 "cells": [
  {
   "cell_type": "markdown",
   "metadata": {},
   "source": [
    "## RQ4: COGNITIVE PROCESSES"
   ]
  },
  {
   "cell_type": "code",
   "execution_count": 1,
   "metadata": {},
   "outputs": [],
   "source": [
    "import numpy as np\n",
    "import pandas as pd\n",
    "from run_stats import *"
   ]
  },
  {
   "cell_type": "code",
   "execution_count": 2,
   "metadata": {},
   "outputs": [],
   "source": [
    "survey_data = pd.read_excel(\"Experimental_Data_revised.xlsx\", \"Surveys\")\n",
    "task_data = pd.read_excel(\"Experimental_Data_revised.xlsx\", \"Tasks\")\n",
    "mood_data = pd.read_excel(\"Experimental_Data_revised.xlsx\", \"Mood\")"
   ]
  },
  {
   "cell_type": "markdown",
   "metadata": {
    "vscode": {
     "languageId": "plaintext"
    }
   },
   "source": [
    "### WORKING MEMORY/ DEMOGRAPHICS"
   ]
  },
  {
   "cell_type": "code",
   "execution_count": 3,
   "metadata": {},
   "outputs": [
    {
     "name": "stdout",
     "output_type": "stream",
     "text": [
      "FWD RAW\n",
      "FISH: [4.0, 5.0, 5.0, 6.0, 6.0, 6.0, 7.0, 7.0, 7.0, 8.0]\n",
      "LEMON: [5.0, 5.0, 5.0, 6.0, 7.0, 7.0, 7.0, 7.0, 8.0, 8.0]\n",
      "NEUTRAL: [6.0, 6.0, 7.0, 7.0, 7.0, 8.0, 8.0, 8.0, 8.0, 8.0]\n",
      "ANOVA F: 3.2000000000000015, P VAL: 0.05660222640850065\n",
      "Neutral v Fish | T-stat: 2.6117145003960425, p-val: 0.01765879293117636, Effect Size: 1.1679942321414905\n",
      "Neutral v Lemon | T-stat: 1.759765380256239, p-val: 0.0954316950709685, Effect Size: 0.7869910029407433\n",
      "Fish v Lemon | T-stat: -0.7529469661657909, p-val: 0.46121674051952355, Effect Size: -0.3367281199597886\n",
      "\n",
      "BWD RAW\n",
      "FISH: [3.0, 4.0, 4.0, 4.0, 4.0, 4.0, 4.0, 4.0, 4.0, 4.0]\n",
      "LEMON: [3.0, 3.0, 4.0, 4.0, 4.0, 4.0, 5.0, 5.0, 5.0, 6.0]\n",
      "NEUTRAL: [3.0, 4.0, 4.0, 4.0, 5.0, 5.0, 5.0, 6.0, 7.0, 7.0]\n",
      "ANOVA F: 3.348, P VAL: 0.050246185554485574\n",
      "Neutral v Fish | T-stat: 2.5384615384615388, p-val: 0.020590234135149155, Effect Size: 1.1352345116537395\n",
      "Neutral v Lemon | T-stat: 1.3527289154417448, p-val: 0.19289150603996436, Effect Size: 0.6049587620114614\n",
      "Fish v Lemon | T-stat: -1.2649110640673513, p-val: 0.22203494893940123, Effect Size: -0.5656854249492379\n",
      "\n"
     ]
    }
   ],
   "source": [
    "# Experimental data - forward and backward\n",
    "# tasks sheet\n",
    "relevant_columns = ['FWD RAW', 'BWD RAW']\n",
    "for col in relevant_columns:\n",
    "    fish, lemon, neutral = make_three_group_lists(task_data, col)\n",
    "    three_lists_stats(fish, lemon, neutral, col, remove=False)\n"
   ]
  },
  {
   "cell_type": "markdown",
   "metadata": {
    "vscode": {
     "languageId": "plaintext"
    }
   },
   "source": [
    "### CREATIVITY"
   ]
  },
  {
   "cell_type": "code",
   "execution_count": 4,
   "metadata": {},
   "outputs": [
    {
     "name": "stdout",
     "output_type": "stream",
     "text": [
      "R_AVG_FLUENCY\n",
      "FISH: [7.0, 7.0, 8.0, 9.0, 10.0, 12.0, 14.0, 19.0, 23.0, 26.0]\n",
      "LEMON: [5.0, 7.0, 10.0, 12.0, 12.0, 14.0, 18.0, 18.0, 21.0, 29.0]\n",
      "NEUTRAL: [3.0, 3.0, 6.0, 9.0, 10.0, 11.0, 11.0, 13.0, 14.0, 16.0]\n",
      "ANOVA F: 1.7595581988105349, P VAL: 0.19128874405406188\n",
      "Neutral v Fish | T-stat: -1.506826397434458, p-val: 0.14920436123562578, Effect Size: -0.6738732509909128\n",
      "Neutral v Lemon | T-stat: -1.8856367068285087, p-val: 0.07558925670229423, Effect Size: -0.8432823714674776\n",
      "Fish v Lemon | T-stat: -0.3512029712477554, p-val: 0.7295133328305293, Effect Size: -0.15706274352197705\n",
      "\n",
      "R_AVG_FLEXIBILITY\n",
      "FISH: [1.0, 3.5, 3.5, 3.5, 4.0, 4.5, 6.0, 6.5, 7.5, 8.5]\n",
      "LEMON: [1.0, 1.0, 2.0, 3.0, 4.0, 5.0, 5.0, 6.0, 6.5, 8.5]\n",
      "NEUTRAL: [2.0, 2.0, 3.5, 4.0, 5.0, 5.0, 5.5, 6.0, 7.5, 8.0]\n",
      "ANOVA F: 0.27524429967426706, P VAL: 0.7614917352528389\n",
      "Neutral v Fish | T-stat: 0.0, p-val: 1.0, Effect Size: 0.0\n",
      "Neutral v Lemon | T-stat: 0.6407232755171869, p-val: 0.5297759007267917, Effect Size: 0.2865401597645514\n",
      "Fish v Lemon | T-stat: 0.614726116866498, p-val: 0.5464286789563917, Effect Size: 0.27491387697159386\n",
      "\n",
      "R_AVG_ORIGINALITY\n",
      "FISH: [0.0, 0.0, 0.0, 0.5, 1.0, 1.0, 2.0, 2.0, 2.5, 2.5]\n",
      "LEMON: [0.0, 0.0, 0.0, 0.5, 1.0, 1.0, 1.0, 1.5, 1.5, 3.0]\n",
      "NEUTRAL: [0.0, 0.0, 0.0, 0.0, 0.0, 0.0, 0.0, 1.0, 2.0, 2.0]\n",
      "ANOVA F: 1.2600000000000005, P VAL: 0.2998058125746738\n",
      "Neutral v Fish | T-stat: -1.54040738579006, p-val: 0.14085680984132756, Effect Size: -0.6888911255338637\n",
      "Neutral v Lemon | T-stat: -1.1318988820058598, p-val: 0.2725314562999246, Effect Size: -0.5062005687642234\n",
      "Fish v Lemon | T-stat: 0.4568321925761285, p-val: 0.6532565436782635, Effect Size: 0.20430156738209962\n",
      "\n",
      "R_AVG_ELABORATION\n",
      "FISH: [0.0, 0.0, 1.0, 2.0, 2.5, 3.0, 3.0, 4.5, 5.0, 8.0]\n",
      "LEMON: [0.0, 0.0, 2.0, 3.0, 3.5, 4.0, 5.0, 5.5, 7.0, 7.0]\n",
      "NEUTRAL: [0.5, 1.5, 1.5, 3.0, 3.5, 4.0, 4.5, 5.0, 5.0, 6.5]\n",
      "ANOVA F: 0.3250000000000001, P VAL: 0.7253147093046467\n",
      "Neutral v Fish | T-stat: 0.6123724356957946, p-val: 0.5479501508336087, Effect Size: 0.27386127875258304\n",
      "Neutral v Lemon | T-stat: -0.20044593143431846, p-val: 0.8433791972807136, Effect Size: -0.0896421457000796\n",
      "Fish v Lemon | T-stat: -0.7171371656006363, p-val: 0.48249256965003984, Effect Size: -0.3207134902949093\n",
      "\n"
     ]
    }
   ],
   "source": [
    "# Experimental data \n",
    "# tasks sheet - rater 1, rater 2\n",
    "# need to calculate rater agreement\n",
    "# relevant_columns = ['R1_TOTAL', 'R2_TOTAL']\n",
    "relevant_columns = ['R_AVG_FLUENCY', 'R_AVG_FLEXIBILITY', 'R_AVG_ORIGINALITY', 'R_AVG_ELABORATION']\n",
    "\n",
    "for col in relevant_columns:\n",
    "    fish, lemon, neutral = make_three_group_lists(task_data, col)\n",
    "    three_lists_stats(fish, lemon, neutral, col, remove=False)"
   ]
  },
  {
   "cell_type": "code",
   "execution_count": 5,
   "metadata": {},
   "outputs": [
    {
     "name": "stdout",
     "output_type": "stream",
     "text": [
      "R1_FLUENCY\n",
      "R2_FLUENCY\n",
      "Weighted Kappa (Quadratic): 1.0\n",
      "R1_FLEXIBILITY\n",
      "R2_FLEXIBILITY\n",
      "Weighted Kappa (Quadratic): 0.832438238453276\n",
      "R1_ORIGINALITY\n",
      "R2_ORIGINALITY\n",
      "Weighted Kappa (Quadratic): 0.8251748251748252\n",
      "R1_ELABORATION\n",
      "R2_ELABORATION\n",
      "Weighted Kappa (Quadratic): 0.6790540540540542\n"
     ]
    }
   ],
   "source": [
    "from sklearn.metrics import cohen_kappa_score\n",
    "# Calculate the weighted kappa score with quadratic weighting\n",
    "relevant_columns = ['R1_FLUENCY', 'R2_FLUENCY',\n",
    "                    'R1_FLEXIBILITY', 'R2_FLEXIBILITY',\n",
    "                    'R1_ORIGINALITY', 'R2_ORIGINALITY',\n",
    "                    'R1_ELABORATION', 'R2_ELABORATION']\n",
    "\n",
    "i = 0\n",
    "while i < len(relevant_columns):\n",
    "    print(relevant_columns[i])\n",
    "    rater1 = task_data[relevant_columns[i]]\n",
    "    i += 1\n",
    "    print(relevant_columns[i])\n",
    "    rater2 = task_data[relevant_columns[i]]\n",
    "    i += 1\n",
    "    \n",
    "    kappa_quadratic = cohen_kappa_score(rater1, rater2, weights='quadratic')\n",
    "    print(f\"Weighted Kappa (Quadratic): {kappa_quadratic}\")"
   ]
  },
  {
   "cell_type": "code",
   "execution_count": null,
   "metadata": {},
   "outputs": [],
   "source": []
  }
 ],
 "metadata": {
  "kernelspec": {
   "display_name": "Python 3",
   "language": "python",
   "name": "python3"
  },
  "language_info": {
   "codemirror_mode": {
    "name": "ipython",
    "version": 3
   },
   "file_extension": ".py",
   "mimetype": "text/x-python",
   "name": "python",
   "nbconvert_exporter": "python",
   "pygments_lexer": "ipython3",
   "version": "3.9.4"
  }
 },
 "nbformat": 4,
 "nbformat_minor": 2
}
