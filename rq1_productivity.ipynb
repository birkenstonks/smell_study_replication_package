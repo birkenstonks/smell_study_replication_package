{
 "cells": [
  {
   "cell_type": "markdown",
   "metadata": {},
   "source": [
    "### RQ1: PRODUCTIVITY"
   ]
  },
  {
   "cell_type": "code",
   "execution_count": 1,
   "metadata": {},
   "outputs": [],
   "source": [
    "import os\n",
    "# import re\n",
    "import numpy as np\n",
    "import pandas as pd\n",
    "from run_stats import *"
   ]
  },
  {
   "cell_type": "markdown",
   "metadata": {},
   "source": [
    "### ACCURACY"
   ]
  },
  {
   "cell_type": "code",
   "execution_count": 2,
   "metadata": {},
   "outputs": [],
   "source": [
    "survey_data = pd.read_excel(\"Experimental_Data_revised.xlsx\", \"Surveys\")\n",
    "task_data = pd.read_excel(\"Experimental_Data_revised.xlsx\", \"Tasks\")\n",
    "mood_data = pd.read_excel(\"Experimental_Data_revised.xlsx\", \"Mood\")"
   ]
  },
  {
   "cell_type": "markdown",
   "metadata": {},
   "source": [
    "#### Code Reading"
   ]
  },
  {
   "cell_type": "code",
   "execution_count": 3,
   "metadata": {},
   "outputs": [
    {
     "name": "stdout",
     "output_type": "stream",
     "text": [
      "Index(['ID', 'CONDITION', 'PRETEST', 'ORDER OF TASKS', 'P1_PROSE', 'P2_PROSE',\n",
      "       'P3_PROSE', 'P4_PROSE', 'P5_PROSE', 'P6_PROSE', 'P7_PROSE', 'P8_PROSE',\n",
      "       'P9_PROSE', 'PROSE_SCORE', 'CCD1', 'CCD2', 'CCD3', 'CCD4', 'CCD5',\n",
      "       'CCD6', 'CCD7', 'CCD8', 'CCD9', 'CCD10', 'CCD11', 'CCD12', 'CCD_SCORE',\n",
      "       'TWOSUM', 'MINSTACK', 'STYLE', 'WRITING_TOTAL', 'FWD RAW', 'BWD RAW',\n",
      "       'R1_FLUENCY', 'R1_FLEXIBILITY', 'R1_ORIGINALITY', 'R1_ELABORATION',\n",
      "       'R1_TOTAL', 'R2_FLUENCY', 'R2_FLEXIBILITY', 'R2_ORIGINALITY',\n",
      "       'R2_ELABORATION', 'R2_TOTAL', 'R_AVG_FLUENCY', 'R_AVG_FLEXIBILITY',\n",
      "       'R_AVG_ORIGINALITY', 'R_AVG_ELABORATION', 'R_TOTAL_AVG'],\n",
      "      dtype='object')\n"
     ]
    }
   ],
   "source": [
    "print(task_data.columns)"
   ]
  },
  {
   "cell_type": "code",
   "execution_count": 4,
   "metadata": {},
   "outputs": [
    {
     "name": "stdout",
     "output_type": "stream",
     "text": [
      "Code Comprehension\n",
      "FISH: [1.0, 4.0, 5.0, 5.0, 5.0, 5.0, 6.0, 7.0, 8.0, 11.0]\n",
      "LEMON: [1.0, 3.0, 4.0, 5.0, 5.0, 5.0, 5.0, 6.0, 7.0, 8.0]\n",
      "NEUTRAL: [3.0, 4.0, 4.0, 5.0, 5.0, 6.0, 6.0, 8.0, 8.0, 9.0]\n",
      "neutral, num elements: 10, mean: 5.8, std: 1.8867962264113207, normal (above 0.5 is normal): 0.5302517414093018\n",
      "lemon, num elements: 9, mean: 5.333333333333333, std: 1.4142135623730951, normal (above 0.5 is normal): 0.5864582657814026\n",
      "fish, num elements: 8, mean: 5.625, std: 1.2183492931011204, normal (above 0.5 is normal): 0.17801757156848907\n",
      "neutral, num elements: 10, mean: 5.8, std: 1.8867962264113207, normal (above 0.5 is normal): 0.5302517414093018\n",
      "lemon, num elements: 9, mean: 5.333333333333333, std: 1.4142135623730951, normal (above 0.5 is normal): 0.5864582657814026\n",
      "fish, num elements: 8, mean: 5.625, std: 1.2183492931011204, normal (above 0.5 is normal): 0.17801757156848907\n",
      "ANOVA F: 0.1912519621568877, P VAL: 0.8271709373840808\n",
      "Neutral v Fish | T-stat: 0.21417772158891532, p-val: 0.8331141575819039, Effect Size: 0.10159341364295847\n",
      "Neutral v Lemon | T-stat: 0.5719964073519751, p-val: 0.5748108988136527, Effect Size: 0.26281421216533607\n",
      "Fish v Lemon | T-stat: 0.42532436117359734, p-val: 0.6766391572199291, Effect Size: 0.20667049080908786\n",
      "\n"
     ]
    }
   ],
   "source": [
    "#  CC_SCORE column \n",
    "fish, lemon, neutral = make_three_group_lists(task_data, 'CCD_SCORE')\n",
    "three_lists_stats(fish, lemon, neutral, 'Code Comprehension')"
   ]
  },
  {
   "cell_type": "markdown",
   "metadata": {},
   "source": [
    "### Code Writing"
   ]
  },
  {
   "cell_type": "code",
   "execution_count": 5,
   "metadata": {},
   "outputs": [
    {
     "name": "stdout",
     "output_type": "stream",
     "text": [
      "Code Writing\n",
      "FISH: [9.0, 13.0, 13.0, 16.0, 16.0, 17.0, 18.0, 18.0, 19.0, 24.0]\n",
      "LEMON: [6.0, 7.0, 8.0, 13.0, 14.0, 19.0, 19.0, 20.0, 23.0, 24.0]\n",
      "NEUTRAL: [11.0, 13.0, 13.0, 13.0, 13.0, 16.0, 16.0, 16.0, 24.0, 24.0]\n",
      "neutral, num elements: 8, mean: 13.875, std: 1.7633419974582356, normal (above 0.5 is normal): 0.04024510085582733\n",
      "lemon, num elements: 10, mean: 15.3, std: 6.325345840347388, normal (above 0.5 is normal): 0.2934017777442932\n",
      "fish, num elements: 8, mean: 16.25, std: 2.1065374432940898, normal (above 0.5 is normal): 0.2303103655576706\n",
      "neutral, num elements: 8, mean: 13.875, std: 1.7633419974582356, normal (above 0.5 is normal): 0.04024510085582733\n",
      "lemon, num elements: 10, mean: 15.3, std: 6.325345840347388, normal (above 0.5 is normal): 0.2934017777442932\n",
      "fish, num elements: 8, mean: 16.25, std: 2.1065374432940898, normal (above 0.5 is normal): 0.2303103655576706\n",
      "ANOVA F: 0.5721495779859427, P VAL: 0.57213981831924\n",
      "Neutral v Fish | T-stat: -2.287331208629615, p-val: 0.038257719691104426, Effect Size: -1.1436656043148075\n",
      "Neutral v Lemon | T-stat: -0.5829105362036685, p-val: 0.5680789593793438, Effect Size: -0.2764987449770449\n",
      "Fish v Lemon | T-stat: 0.38383838383838353, p-val: 0.7061510393051853, Effect Size: 0.18207053194908837\n",
      "\n"
     ]
    }
   ],
   "source": [
    "# WRITING_TOTAL column\n",
    "fish, lemon, neutral = make_three_group_lists(task_data, 'WRITING_TOTAL')\n",
    "three_lists_stats(fish, lemon, neutral, 'Code Writing')"
   ]
  },
  {
   "cell_type": "markdown",
   "metadata": {},
   "source": [
    "### Prose Reading"
   ]
  },
  {
   "cell_type": "code",
   "execution_count": 6,
   "metadata": {},
   "outputs": [
    {
     "name": "stdout",
     "output_type": "stream",
     "text": [
      "Prose Accuracy\n",
      "FISH: [4.0, 4.0, 4.0, 5.0, 6.0, 6.0, 6.0, 7.0, 7.0, 8.0]\n",
      "LEMON: [4.0, 4.0, 4.0, 5.0, 5.0, 6.0, 6.0, 7.0, 7.0, 9.0]\n",
      "NEUTRAL: [2.0, 4.0, 5.0, 6.0, 6.0, 6.0, 6.0, 7.0, 7.0, 9.0]\n",
      "neutral, num elements: 9, mean: 6.222222222222222, std: 1.314684396244359, normal (above 0.5 is normal): 0.4214017689228058\n",
      "lemon, num elements: 10, mean: 5.7, std: 1.5524174696260025, normal (above 0.5 is normal): 0.2281629592180252\n",
      "fish, num elements: 10, mean: 5.7, std: 1.3453624047073711, normal (above 0.5 is normal): 0.24927788972854614\n",
      "neutral, num elements: 9, mean: 6.222222222222222, std: 1.314684396244359, normal (above 0.5 is normal): 0.4214017689228058\n",
      "lemon, num elements: 10, mean: 5.7, std: 1.5524174696260025, normal (above 0.5 is normal): 0.2281629592180252\n",
      "fish, num elements: 10, mean: 5.7, std: 1.3453624047073711, normal (above 0.5 is normal): 0.24927788972854614\n",
      "ANOVA F: 0.38100861073887826, P VAL: 0.6869237431118471\n",
      "Neutral v Fish | T-stat: 0.8077851806363109, p-val: 0.4303729695073476, Effect Size: 0.37115167703689717\n",
      "Neutral v Lemon | T-stat: 0.7441701473725957, p-val: 0.46693614500007696, Effect Size: 0.3419225863744675\n",
      "Fish v Lemon | T-stat: 0.0, p-val: 1.0, Effect Size: 0.0\n",
      "\n"
     ]
    }
   ],
   "source": [
    "# PROSE_SCORE\n",
    "fish, lemon, neutral = make_three_group_lists(task_data, 'PROSE_SCORE')\n",
    "three_lists_stats(fish, lemon, neutral, 'Prose Accuracy')"
   ]
  },
  {
   "cell_type": "markdown",
   "metadata": {},
   "source": [
    "## Efficiency"
   ]
  },
  {
   "cell_type": "code",
   "execution_count": 7,
   "metadata": {},
   "outputs": [],
   "source": [
    "# task durations\n",
    "# all_task_durations.csv file\n",
    "relevant_columns = ['neutral_ccd',  'lemon_ccd',   'fish_ccd', \n",
    "                    'neutral_prose',  'lemon_prose',   'fish_prose', \n",
    "                    'neutral_writing','lemon_writing', 'fish_writing']"
   ]
  },
  {
   "cell_type": "code",
   "execution_count": 8,
   "metadata": {},
   "outputs": [
    {
     "name": "stdout",
     "output_type": "stream",
     "text": [
      "Code Comp. Duration\n",
      "neutral_ccd, num elements: 8, mean: 893732.625, std: 141714.78604660268, normal (above 0.5 is normal): 0.1217779666185379\n",
      "lemon_ccd, num elements: 9, mean: 878574.7777777778, std: 174586.59118282684, normal (above 0.5 is normal): 0.6556411385536194\n",
      "fish_ccd, num elements: 10, mean: 1181111.8, std: 296194.259988542, normal (above 0.5 is normal): 0.6040210723876953\n",
      "Neutral: [900420.0, 883241.0, 1142911.0, 1087071.0, 745420.0, 882233.0, 751224.0, 757341.0]\n",
      "Lemon: [880632.0, 1244886.0, 896841.0, 598492.0, 878815.0, 800043.0, 715813.0, 1044952.0, 846699.0]\n",
      "Fish: [814036.0, 757507.0, 1418779.0, 1191827.0, 1399334.0, 849655.0, 1299010.0, 1153407.0, 1168343.0, 1759220.0]\n",
      "ANOVA F: 5.033087590615559, P VAL: 0.014950454506894719\n",
      "Neutral v Fish | T-stat: -2.3786501475461677, p-val: 0.030172955924617745, Effect Size: -1.1282928334412199\n",
      "Neutral v Lemon | T-stat: 0.1831832806567554, p-val: 0.8571072846722839, Effect Size: 0.0890110747874572\n",
      "Fish v Lemon | T-stat: 2.5298226256071374, p-val: 0.021586862766811474, Effect Size: 1.162373280183656\n",
      "\n",
      "Prose Duration\n",
      "neutral_prose, num elements: 9, mean: 626183.3333333334, std: 129364.83612893677, normal (above 0.5 is normal): 0.5048988461494446\n",
      "lemon_prose, num elements: 9, mean: 635922.7777777778, std: 95252.8217147255, normal (above 0.5 is normal): 0.8846321105957031\n",
      "fish_prose, num elements: 7, mean: 704025.0, std: 36681.12091681885, normal (above 0.5 is normal): 0.4698581397533417\n",
      "Neutral: [523113.0, 725265.0, 779467.0, 727152.0, 802056.0, 414324.0, 501398.0, 558041.0, 604834.0]\n",
      "Lemon: [750742.0, 515852.0, 650194.0, 605049.0, 473512.0, 610557.0, 646706.0, 680604.0, 790089.0]\n",
      "Fish: [750742.0, 650562.0, 686890.0, 681920.0, 684248.0, 759732.0, 714081.0]\n",
      "ANOVA F: 1.240859923767394, P VAL: 0.3085946031724608\n",
      "Neutral v Fish | T-stat: -1.4447002446085582, p-val: 0.1705503262866548, Effect Size: -0.7280604888130336\n",
      "Neutral v Lemon | T-stat: -0.1714742716290804, p-val: 0.8660007990808666, Effect Size: -0.08083374684529784\n",
      "Fish v Lemon | T-stat: 1.6754542695467547, p-val: 0.1160263624185283, Effect Size: 0.8443495867203984\n",
      "\n",
      "Writing Duration\n",
      "neutral_writing, num elements: 6, mean: 1495134.3333333333, std: 63902.82308752529, normal (above 0.5 is normal): 0.3779881000518799\n",
      "lemon_writing, num elements: 10, mean: 1782875.5, std: 513081.4703916426, normal (above 0.5 is normal): 0.8345013856887817\n",
      "fish_writing, num elements: 9, mean: 1546578.888888889, std: 140139.20071560948, normal (above 0.5 is normal): 0.7514607310295105\n",
      "Neutral: [1487295.0, 1573252.0, 1533909.0, 1369019.0, 1523458.0, 1483873.0]\n",
      "Lemon: [2372580.0, 1654487.0, 2160087.0, 2120132.0, 1357319.0, 1713301.0, 752695.0, 1548195.0, 1555689.0, 2594270.0]\n",
      "Fish: [1794842.0, 1623470.0, 1349984.0, 1591363.0, 1567732.0, 1318376.0, 1648522.0, 1553108.0, 1471813.0]\n",
      "ANOVA F: 1.5737922521369838, P VAL: 0.22971557974858864\n",
      "Neutral v Fish | T-stat: -0.7844979774116481, p-val: 0.44680832518492264, Effect Size: -0.4134667380693554\n",
      "Neutral v Lemon | T-stat: -1.279038558734137, p-val: 0.2216777987303908, Effect Size: -0.6604926716179267\n",
      "Fish v Lemon | T-stat: -1.2651124599056853, p-val: 0.22289809780249306, Effect Size: -0.5812790608072251\n",
      "\n"
     ]
    }
   ],
   "source": [
    "duration_df = pd.read_csv(\"taskDuration/all_task_durations.csv\")\n",
    "calculate_stats(duration_df, relevant_columns)"
   ]
  },
  {
   "cell_type": "code",
   "execution_count": 9,
   "metadata": {},
   "outputs": [
    {
     "name": "stdout",
     "output_type": "stream",
     "text": [
      "Amount over 25 minutes\n",
      "FISH: [0.8851333333333333, 1.1288666666666667, 1.5227166666666667, 2.0578333333333334, 2.4753666666666665, 4.914033333333333, 6.10665]\n",
      "LEMON: [0.80325, 0.92815, 2.5747833333333334, 3.5550166666666665, 10.335533333333334, 11.00145, 14.543, 18.237833333333334]\n",
      "NEUTRAL: [0.3909666666666667, 0.56515, 1.2208666666666668, 6.405733333333333, 9.419183333333333, 11.386866666666666]\n",
      "neutral, num elements: 6, mean: 4.898127777777778, std: 4.423949916821302, normal (above 0.5 is normal): 0.16892553865909576\n",
      "lemon, num elements: 8, mean: 7.747377083333333, std: 6.2507207325376655, normal (above 0.5 is normal): 0.2534210681915283\n",
      "fish, num elements: 5, mean: 1.613983333333333, std: 0.5854697561218113, normal (above 0.5 is normal): 0.7917186617851257\n",
      "neutral, num elements: 6, mean: 4.898127777777778, std: 4.423949916821302, normal (above 0.5 is normal): 0.16892553865909576\n",
      "lemon, num elements: 8, mean: 7.747377083333333, std: 6.2507207325376655, normal (above 0.5 is normal): 0.2534210681915283\n",
      "fish, num elements: 5, mean: 1.613983333333333, std: 0.5854697561218113, normal (above 0.5 is normal): 0.7917186617851257\n",
      "ANOVA F: 2.1632097056774526, P VAL: 0.14739162309588472\n",
      "Neutral v Fish | T-stat: 1.490649645014373, p-val: 0.17024334064366523, Effect Size: 0.9026331851126133\n",
      "Neutral v Lemon | T-stat: -0.8813398544712419, p-val: 0.39544399249958195, Effect Size: -0.4759779220000531\n",
      "Fish v Lemon | T-stat: -2.0127647782696174, p-val: 0.06927119819269463, Effect Size: -1.1474524683440668\n",
      "\n"
     ]
    }
   ],
   "source": [
    "relevant_columns = ['neutral_writing', 'lemon_writing', 'fish_writing']\n",
    "\n",
    "df = pd.read_csv(\"taskDuration/all_task_durations.csv\")\n",
    "\n",
    "min_to_ms = 25*60000\n",
    "\n",
    "neutral_long_sessions = []\n",
    "lemon_long_sessions = []\n",
    "fish_long_sessions = []\n",
    "\n",
    "for col in relevant_columns:\n",
    "    greater_than_idx = np.where(df[col] > min_to_ms)[0]\n",
    "    num_greater_than = len(greater_than_idx)\n",
    "    greater_than_list = list(df.loc[greater_than_idx, col])\n",
    "    \n",
    "    # getting difference with 25 minutes and converting back to minutes\n",
    "    amount_over_25_minutes = [(el - min_to_ms)/60000 for el in greater_than_list]\n",
    "\n",
    "    if re.search(\"neutral\", col):\n",
    "        neutral_long_sessions = pd.Series(amount_over_25_minutes)\n",
    "    elif re.search(\"lemon\", col):\n",
    "        lemon_long_sessions = pd.Series(amount_over_25_minutes)\n",
    "    elif re.search(\"fish\", col):\n",
    "        fish_long_sessions = pd.Series(amount_over_25_minutes)\n",
    "        \n",
    "three_lists_stats(fish_long_sessions, lemon_long_sessions, neutral_long_sessions, 'Amount over 25 minutes')\n",
    "# three_lists_stats(fish, lemon, neutral, 'Prose Accuracy')"
   ]
  },
  {
   "cell_type": "code",
   "execution_count": 10,
   "metadata": {},
   "outputs": [
    {
     "data": {
      "image/png": "[encoded data removed]",
      "text/plain": [
       "<Figure size 1100x600 with 1 Axes>"
      ]
     },
     "metadata": {},
     "output_type": "display_data"
    }
   ],
   "source": [
    "import matplotlib.pyplot as plt\n",
    "import numpy as np\n",
    "import scipy.stats as stats\n",
    "import seaborn as sns\n",
    "\n",
    "# this data can be replicated by uncommenting line 78 of run_stats.py\n",
    "data = { \n",
    "    'neutral': [900420.0, 883241.0, 1328263.0, 1829971.0, 1142911.0, 1087071.0, 745420.0, 882233.0, 751224.0, 757341.0],\n",
    "    'lemon': [1504637.0, 880632.0, 1244886.0, 896841.0, 598492.0, 878815.0, 800043.0, 715813.0, 1044952.0, 846699.0],\n",
    "    'fish': [814036.0, 757507.0, 1418779.0, 1191827.0, 1399334.0, 849655.0, 1299010.0, 1153407.0, 1168343.0, 1759220.0]\n",
    "}\n",
    "\n",
    "for k,v in data.items():\n",
    "    data[k] = [el/60000 for el in v]\n",
    "\n",
    "# Revised colors for the plot\n",
    "colors = ['#F0E68C', '#708090', '#FFB3BA']  # Slate Gray for Neutral, Softer yellow for Lemon, and Pink for Fish\n",
    "\n",
    "# Creating the box and whisker plot\n",
    "plt.figure(figsize=(11, 6))\n",
    "box = plt.boxplot(\n",
    "    [data['lemon'], data['neutral'], data['fish']], \n",
    "    labels=['Lemon', 'Neutral', 'Fish'], \n",
    "    patch_artist=True, \n",
    "    boxprops=dict(facecolor='lightgray', color='black'),\n",
    "    medianprops=dict(color='black'),\n",
    "    whiskerprops=dict(color='black'),\n",
    "    capprops=dict(color='black')\n",
    ")\n",
    "\n",
    "# Set individual colors for the boxes\n",
    "for patch, color in zip(box['boxes'], colors):\n",
    "    patch.set_facecolor(color)\n",
    "\n",
    "# Adding title and labels\n",
    "plt.title(\"Code Comprehension: Task Durations\", fontsize=16, fontweight='bold')\n",
    "plt.xlabel(\"Condition\", fontsize=18)\n",
    "plt.ylabel(\"Minutes\", fontsize=18)\n",
    "plt.tick_params(axis='both', which='major', labelsize=16)\n",
    "\n",
    "# Add gridlines\n",
    "plt.grid(True, linestyle='--', alpha=0.7)\n",
    "\n",
    "# Calculate p-value for significance between Lemon and Fish (e.g., using a t-test)\n",
    "t_stat, p_val = stats.ttest_ind(data['lemon'], data['fish'])\n",
    "\n",
    "# Adding the significance annotation\n",
    "x1, x2 = 1, 3  # positions for Lemon and Fish\n",
    "y, h, col = max(max(data['lemon']), max(data['fish'])) + 2, 2, 'black'\n",
    "plt.plot([x1, x1, x2, x2], [y, y+h, y+h, y], lw=1.5, c=col)\n",
    "plt.text((x1+x2)*.5, y+h, f\"*\", ha='center', va='bottom', fontsize=16, color=col)\n",
    "\n",
    "# Remove top and right spines for a cleaner look\n",
    "sns.despine()\n",
    "\n",
    "ax = plt.gca()\n",
    "ax.set_ylim([0,35.5])\n",
    "\n",
    "# Show the plot\n",
    "# plt.savefig(\"figures/task_durations.png\", dpi=150)\n",
    "plt.show()"
   ]
  },
  {
   "cell_type": "markdown",
   "metadata": {},
   "source": [
    "#### Eye movement types"
   ]
  },
  {
   "cell_type": "code",
   "execution_count": 11,
   "metadata": {},
   "outputs": [
    {
     "name": "stdout",
     "output_type": "stream",
     "text": [
      "(array([16, 17, 18, 19, 20, 21, 22, 24, 25, 28]),)\n"
     ]
    }
   ],
   "source": [
    "\n",
    "fish_idx = np.where(task_data['CONDITION'] == 'bad')\n",
    "print(fish_idx)\n",
    "lemon_idx = np.where(task_data['CONDITION'] == 'good')\n",
    "neutral_idx = np.where(task_data['CONDITION'] == 'neutral')\n",
    "\n",
    "fish_ppl = list(task_data.loc[fish_idx, 'ID'])\n",
    "lemon_ppl = list(task_data.loc[lemon_idx, 'ID'])\n",
    "neutral_ppl = list(task_data.loc[neutral_idx, 'ID'])"
   ]
  }
 ],
 "metadata": {
  "kernelspec": {
   "display_name": "Python 3",
   "language": "python",
   "name": "python3"
  },
  "language_info": {
   "codemirror_mode": {
    "name": "ipython",
    "version": 3
   },
   "file_extension": ".py",
   "mimetype": "text/x-python",
   "name": "python",
   "nbconvert_exporter": "python",
   "pygments_lexer": "ipython3",
   "version": "3.9.4"
  }
 },
 "nbformat": 4,
 "nbformat_minor": 2
}
