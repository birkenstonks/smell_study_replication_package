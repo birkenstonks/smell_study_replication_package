{
 "cells": [
  {
   "cell_type": "code",
   "execution_count": 2,
   "metadata": {},
   "outputs": [],
   "source": [
    "import pandas as pd\n",
    "from run_stats import *"
   ]
  },
  {
   "cell_type": "code",
   "execution_count": 3,
   "metadata": {},
   "outputs": [],
   "source": [
    "survey_data = pd.read_excel(\"./Experimental_Data_revised.xlsx\", 'Surveys')"
   ]
  },
  {
   "cell_type": "code",
   "execution_count": 4,
   "metadata": {},
   "outputs": [
    {
     "name": "stdout",
     "output_type": "stream",
     "text": [
      "Smell Rating\n",
      "FISH: [1.0, 1.5, 2.0, 2.0, 2.0, 3.0, 3.0, 3.0, 3.0, 4.0]\n",
      "LEMON: [3.0, 3.0, 3.0, 4.0, 4.0, 4.0, 4.0, 4.0, 4.0, 4.5]\n",
      "NEUTRAL: [3.0, 3.0, 3.0, 3.0, 3.0, 3.0, 3.0, 4.0]\n",
      "ANOVA F: 9.852647352647352, P VAL: 0.000699460318395441\n",
      "Neutral v Fish | T-stat: 1.9999999999999993, p-val: 0.06277196351460347, Effect Size: 0.9486832980505135\n",
      "Neutral v Lemon | T-stat: -2.817180849095055, p-val: 0.012393975745500104, Effect Size: -1.3363062095621219\n",
      "Fish v Lemon | T-stat: -3.929583230507051, p-val: 0.0009824691787514539, Effect Size: -1.7573630453313984\n",
      "\n"
     ]
    }
   ],
   "source": [
    "fish, lemon, neutral = make_three_group_lists(survey_data, 'RATING')\n",
    "three_lists_stats(fish, lemon, neutral, 'Smell Rating', remove=False)"
   ]
  },
  {
   "cell_type": "code",
   "execution_count": 5,
   "metadata": {},
   "outputs": [
    {
     "name": "stdout",
     "output_type": "stream",
     "text": [
      "CPP\n",
      "FISH: [1.0, 2.0, 2.0, 2.0, 2.0, 2.0, 2.0, 2.0, 2.0, 3.0]\n",
      "LEMON: [1.0, 1.0, 2.0, 2.0, 2.0, 2.0, 2.0, 3.0, 3.0, 3.0]\n",
      "NEUTRAL: [1.0, 1.0, 1.0, 1.0, 1.0, 2.0, 2.0, 3.0, 3.0, 3.0]\n",
      "ANOVA F: 0.4344827586206898, P VAL: 0.6520476970000004\n",
      "Neutral v Fish | T-stat: -0.6123724356957944, p-val: 0.5479501508336089, Effect Size: -0.27386127875258304\n",
      "Neutral v Lemon | T-stat: -0.8049844718999244, p-val: 0.4313338582131321, Effect Size: -0.36000000000000004\n",
      "Fish v Lemon | T-stat: -0.3611575592573079, p-val: 0.7221858255539928, Effect Size: -0.16151457061744978\n",
      "\n"
     ]
    }
   ],
   "source": [
    "fish, lemon, neutral = make_three_group_lists(survey_data, 'CPP_Experience')\n",
    "three_lists_stats(fish, lemon, neutral, 'CPP', remove=False)"
   ]
  },
  {
   "cell_type": "code",
   "execution_count": 6,
   "metadata": {},
   "outputs": [
    {
     "name": "stdout",
     "output_type": "stream",
     "text": [
      "GPA\n",
      "FISH: [3.0, 3.6, 3.6, 3.8, 3.83, 3.88, 3.9, 3.9, 4.0, 4.0]\n",
      "LEMON: [3.6, 3.6, 3.7, 3.7, 3.8, 3.8, 3.83, 3.87, 3.93, 3.982]\n",
      "NEUTRAL: [3.0, 3.2, 3.2, 3.5, 3.7, 3.7, 3.8, 3.9, 3.92, 3.97]\n",
      "ANOVA F: 1.4183029534394378, P VAL: 0.25959341582807655\n",
      "Neutral v Fish | T-stat: -1.1204642589705573, p-val: 0.2772435482765391, Effect Size: -0.501086849883419\n",
      "Neutral v Lemon | T-stat: -1.643823092524369, p-val: 0.11756486622891253, Effect Size: -0.7351400355736832\n",
      "Fish v Lemon | T-stat: -0.2930857901619512, p-val: 0.7728086460172758, Effect Size: -0.13107195000827238\n",
      "\n"
     ]
    }
   ],
   "source": [
    "fish, lemon, neutral = make_three_group_lists(survey_data, 'GPA')\n",
    "three_lists_stats(fish, lemon, neutral, 'GPA', remove=False)"
   ]
  },
  {
   "cell_type": "code",
   "execution_count": 7,
   "metadata": {},
   "outputs": [
    {
     "name": "stdout",
     "output_type": "stream",
     "text": [
      "AGE\n",
      "FISH: [19.0, 20.0, 20.0, 20.0, 21.0, 21.0, 21.0, 21.0, 22.0, 22.0]\n",
      "LEMON: [19.0, 19.0, 20.0, 20.0, 20.0, 20.0, 21.0, 21.0, 21.0, 22.0]\n",
      "NEUTRAL: [18.0, 19.0, 20.0, 20.0, 21.0, 21.0, 21.0, 21.0, 22.0, 23.0]\n",
      "ANOVA F: 0.33815028901734107, P VAL: 0.7160647498401089\n",
      "Neutral v Fish | T-stat: -0.18428853505018142, p-val: 0.8558474220401331, Effect Size: -0.08241633836921167\n",
      "Neutral v Lemon | T-stat: 0.5528656051505574, p-val: 0.5871566031853813, Effect Size: 0.24724901510764083\n",
      "Fish v Lemon | T-stat: 0.9428090415820599, p-val: 0.35826178708715717, Effect Size: 0.4216370213557824\n",
      "\n"
     ]
    }
   ],
   "source": [
    "fish, lemon, neutral = make_three_group_lists(survey_data, 'AGE')\n",
    "three_lists_stats(fish, lemon, neutral, 'AGE', remove=False)"
   ]
  }
 ],
 "metadata": {
  "kernelspec": {
   "display_name": "base",
   "language": "python",
   "name": "python3"
  },
  "language_info": {
   "codemirror_mode": {
    "name": "ipython",
    "version": 3
   },
   "file_extension": ".py",
   "mimetype": "text/x-python",
   "name": "python",
   "nbconvert_exporter": "python",
   "pygments_lexer": "ipython3",
   "version": "3.9.4"
  }
 },
 "nbformat": 4,
 "nbformat_minor": 2
}
